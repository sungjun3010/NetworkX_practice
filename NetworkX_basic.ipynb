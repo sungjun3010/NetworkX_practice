{
 "cells": [
  {
   "cell_type": "code",
   "execution_count": 1,
   "metadata": {},
   "outputs": [],
   "source": [
    "import networkx as nx\n",
    "\n",
    "G = nx.Graph() #초기 graph 생성"
   ]
  },
  {
   "cell_type": "code",
   "execution_count": 2,
   "metadata": {},
   "outputs": [
    {
     "name": "stdout",
     "output_type": "stream",
     "text": [
      "After node insertion: 4 nodes\n",
      "After node deletion: 0 nodes\n",
      "{'node_type': 'user'}\n",
      "{'node_type': 'item'}\n"
     ]
    }
   ],
   "source": [
    "# Node 삽입, 삭제\n",
    "\n",
    "G.add_node(1) # 1개 삽입\n",
    "G.add_nodes_from([2,3,4]) # 여러개 삽입\n",
    "\n",
    "print(f\"After node insertion: {G.number_of_nodes()} nodes\")\n",
    "\n",
    "G.remove_node(2) # 1개 삭제\n",
    "G.remove_nodes_from([1,3,4]) # 여러개 삭제 \n",
    "\n",
    "print(f\"After node deletion: {G.number_of_nodes()} nodes\")\n",
    "\n",
    "\n",
    "# Attribute가 있는 node\n",
    "G.add_node(1, node_type = 'user') # \"user_type\" 은 사용자가 정의한 이름, dict 형태로 attribute 저장 가능\n",
    "print(G.nodes[1]) # 원하는 node의 정보는 node id를 key로 사용해서 찾을 수 있음\n",
    "\n",
    "# node는 attribute에 상관없이 id로만 식별가능하며, 동일한 id의 node가 추가되면 overlap됨\n",
    "G.add_node(1, node_type = 'item') \n",
    "print(G.nodes[1])\n",
    "\n",
    "G.clear() # 모든 node와 edge 삭제"
   ]
  },
  {
   "cell_type": "code",
   "execution_count": 3,
   "metadata": {},
   "outputs": [
    {
     "name": "stdout",
     "output_type": "stream",
     "text": [
      "After edge insertion: 3 edges\n",
      "After edge deletion: 0 edges\n",
      "{'edge_type': 'purchase'}\n"
     ]
    }
   ],
   "source": [
    "# Edge 삽입, 삭제\n",
    "G.add_nodes_from(list(range(100))) # node 100개 삽입\n",
    "\n",
    "G.add_edge(0,99) # edge는 튜플형태\n",
    "G.add_edges_from([(1,98), (2,97)]) # 여러개 삽입\n",
    "print(f\"After edge insertion: {G.number_of_edges()} edges\")\n",
    "\n",
    "#G.nodes에 없는 edge를 더하면, 새로운 node가 알아서 추가됨\n",
    "\n",
    "G.remove_edge(0,99) # edge는 튜플형태\n",
    "G.remove_edges_from([(1,98), (2,97)]) # 여러개 삽입\n",
    "print(f\"After edge deletion: {G.number_of_edges()} edges\")\n",
    "\n",
    "# Edge에도 attribute가 있을 수 있음\n",
    "G.add_edge(0,99, edge_type = 'purchase')\n",
    "print(G.edges[0,99]) # 원하는 edge 정보는 edge와 연결된 node ids를 key로 사용해서 찾을 수 있음\n",
    "\n",
    "G.clear() # 모든 node와 edge 삭제"
   ]
  },
  {
   "cell_type": "code",
   "execution_count": 4,
   "metadata": {},
   "outputs": [
    {
     "name": "stdout",
     "output_type": "stream",
     "text": [
      "Graph H\n",
      "[0, 1, 2, 3, 4, 5, 6, 7, 8, 9]\n",
      "[(0, 1), (1, 2), (2, 3), (3, 4), (4, 5), (5, 6), (6, 7), (7, 8), (8, 9)]\n",
      "\n",
      "Graph G\n",
      "[0, 1, 2, 3, 4, 5, 6, 7, 8, 9]\n",
      "[(0, 1), (1, 2), (2, 3), (3, 4), (4, 5), (5, 6), (6, 7), (7, 8), (8, 9)]\n"
     ]
    }
   ],
   "source": [
    "# 다른 그래프의 nodes, edges 가져오기\n",
    "H = nx.path_graph(10) # node id가 0~9이고, 연속된 id를 갖는 node끼리 edge로 이어져있는 그래프 생성\n",
    "print(\"Graph H\")\n",
    "print(H.nodes())\n",
    "print(H.edges())\n",
    "print()\n",
    "# nodes 가져오기\n",
    "print(\"Graph G\")\n",
    "G.add_nodes_from(H)\n",
    "G.add_edges_from(H.edges)\n",
    "print(G.nodes())\n",
    "print(G.edges())\n",
    "\n",
    "G.clear() # 모든 node와 edge 삭제\n",
    "H.clear()"
   ]
  },
  {
   "cell_type": "code",
   "execution_count": 31,
   "metadata": {},
   "outputs": [
    {
     "name": "stdout",
     "output_type": "stream",
     "text": [
      "Graph H\n",
      "[0, 1, 2, 3, 4, 5, 6, 7, 8, 9]\n",
      "[(0, 1), (1, 2), (2, 3), (3, 4), (4, 5), (5, 6), (6, 7), (7, 8), (8, 9)]\n",
      "\n",
      "Graph G\n",
      "[0, 1, 2, 3, 4, 5, 6, 7, 8, 9]\n",
      "[(0, 1), (1, 0), (1, 2), (2, 1), (2, 3), (3, 2), (3, 4), (4, 3), (4, 5), (5, 4), (5, 6), (6, 5), (6, 7), (7, 6), (7, 8), (8, 7), (8, 9), (9, 8)]\n",
      "\n",
      "H, G deletion 비교\n",
      "edge (0,1) 삭제 전 이웃\n",
      "H: [0, 2]\n",
      "G: [0, 2]\n",
      "edge (0,1) 삭제 후 이웃\n",
      "H: [2]\n",
      "G: [0, 2]\n",
      "edge (1,0) 삭제 후 이웃\n",
      "G: [2]\n"
     ]
    }
   ],
   "source": [
    "# 방향 그래프 만들기\n",
    "H = nx.path_graph(10) # node id가 0~9이고, 연속된 id를 갖는 node끼리 edge로 이어져있는 그래프 생성\n",
    "print(\"Graph H\")\n",
    "print(H.nodes())\n",
    "print(H.edges())\n",
    "print()\n",
    "# nodes 가져오기\n",
    "print(\"Graph G\")\n",
    "G = nx.DiGraph(H) # 무방향 그래프를 input으로 받으면 각 edge에 대해서 양방향 edge2개가 생김 \n",
    "print(G.nodes())\n",
    "print(G.edges())\n",
    "print()\n",
    "print(\"H, G deletion 비교\")\n",
    "print(\"edge (0,1) 삭제 전 이웃\")\n",
    "print(f\"H: {list(H.neighbors(1))}\")\n",
    "print(f\"G: {list(G.neighbors(1))}\")\n",
    "print(\"edge (0,1) 삭제 후 이웃\")\n",
    "H.remove_edge(0,1)\n",
    "G.remove_edge(0,1)\n",
    "print(f\"H: {list(H.neighbors(1))}\")\n",
    "print(f\"G: {list(G.neighbors(1))}\")\n",
    "print(\"edge (1,0) 삭제 후 이웃\")\n",
    "G.remove_edge(1,0)\n",
    "print(f\"G: {list(G.neighbors(1))}\")\n",
    "\n",
    "G.clear() # 모든 node와 edge 삭제\n",
    "H.clear()"
   ]
  }
 ],
 "metadata": {
  "kernelspec": {
   "display_name": "tensorflow",
   "language": "python",
   "name": "tensorflowsj"
  },
  "language_info": {
   "codemirror_mode": {
    "name": "ipython",
    "version": 3
   },
   "file_extension": ".py",
   "mimetype": "text/x-python",
   "name": "python",
   "nbconvert_exporter": "python",
   "pygments_lexer": "ipython3",
   "version": "3.6.7"
  }
 },
 "nbformat": 4,
 "nbformat_minor": 2
}
